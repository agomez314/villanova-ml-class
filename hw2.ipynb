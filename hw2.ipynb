{
 "cells": [
  {
   "cell_type": "markdown",
   "metadata": {},
   "source": [
    "# Assignment 2- Linear Classifiers & Decision Trees\n",
    "\n",
    "The goal of this assignment is to familiarize yourself with the SVM and Decision Tree classifiers available in scikit-learn and practice applying them to data.\n",
    "\n",
    "This assignment does _not_ require you to implement your own classifier from scratch, but you may need to look at the SciKit-Learn documentation (https://scikit-learn.org/stable/supervised_learning.html) to figure out how to call the library methods.  Note that SVMs are in chapter 1.4, and Decision Trees are in chapter 1.10 of the linked manual."
   ]
  },
  {
   "cell_type": "code",
   "execution_count": 1,
   "metadata": {},
   "outputs": [],
   "source": [
    "# import the things we'll need\n",
    "import numpy as np\n",
    "from sklearn import datasets # import toy datasets (including iris)\n",
    "from sklearn import neighbors # import nearest neighbor classifiers\n",
    "from sklearn import svm # import SVM classifiers\n",
    "from sklearn import tree # import decision tree classifiers\n",
    "from sklearn.model_selection import train_test_split # import holdout validation split method"
   ]
  },
  {
   "cell_type": "markdown",
   "metadata": {},
   "source": [
    "## Load some data\n",
    "Let's go ahead and use the iris dataset again.  Load it the same way we did in Assignment 1b, and split it into 60% train and 40% test just like we did there.\n",
    "\n",
    "**Be sure to use the argument `random_state=0` just like we did in the previous assignment.**  This is a \"seed\" for the random number generator; any particular seed value should always result in the same set of \"random\" numbers.  We'll use fixed seed values here because it will allow everyone to get the same results."
   ]
  },
  {
   "cell_type": "code",
   "execution_count": 40,
   "metadata": {
    "jupyter": {
     "outputs_hidden": true
    }
   },
   "outputs": [],
   "source": [
    "# load the iris dataset and split it\n",
    "iris = datasets.load_iris()\n",
    "X_train, X_test, y_train, y_test = train_test_split(iris.data, iris.target, test_size=0.4, random_state=2)"
   ]
  },
  {
   "cell_type": "markdown",
   "metadata": {},
   "source": [
    "## Create a Nearest Neighbor classifier\n",
    "Create a nearest neighbor classifier just like we did in Assignment 1b; here, we will use it as a baseline for comparing our new classifiers.  Be sure to train it and then evaluate its performance on the testing data (again, you should be able to use code from the previous assignment with little or no modification to do this).  Use an n_neighbors value of 1.  This should give you the same accuracy as you got in the previous assignment.\n",
    "\n",
    "Once you've got it working, try changing the `random_state` value in the train_test_split function to 1 and re-running your nearest-neighbor classifier.  Try it again with a value of 2.  Write down each of the accuracies below; the first one has been done for you."
   ]
  },
  {
   "cell_type": "code",
   "execution_count": 14,
   "metadata": {
    "jupyter": {
     "outputs_hidden": true
    }
   },
   "outputs": [
    {
     "data": {
      "text/plain": [
       "0.9666666666666667"
      ]
     },
     "execution_count": 14,
     "metadata": {},
     "output_type": "execute_result"
    }
   ],
   "source": [
    "# create, train, and test a nearest neighbor classifier\n",
    "\n",
    "#create\n",
    "classifier = neighbors.KNeighborsClassifier(metric='euclidean', n_neighbors=1)\n",
    "\n",
    "#train the model using training data\n",
    "classifier.fit(X_train, y_train)\n",
    "\n",
    "#score using test data\n",
    "classifier.score(X_test, y_test)"
   ]
  },
  {
   "cell_type": "markdown",
   "metadata": {},
   "source": [
    "**Question 1: accuracy of nearest neighbor for different random seed values**\n",
    "\n",
    "seed=0, accuracy = 0.9166666666666666\n",
    "\n",
    "seed=1, accuracy = 0.9666666666666667\n",
    "\n",
    "seed=2, accuracy = 0.9666666666666667"
   ]
  },
  {
   "cell_type": "markdown",
   "metadata": {},
   "source": [
    "## Create a linear SVM\n",
    "Code to create a linear SVM is given; however, it is left to you to add lines to train the SVM on the training data and then evaluate its accuracy on the testing data.  This should work just like the training/testing process did using the nearestNeighbor class.\n",
    "\n",
    "Test your classifier on different train/test splits using the same three random-seed values as previously, and report the accuracies you get."
   ]
  },
  {
   "cell_type": "code",
   "execution_count": 24,
   "metadata": {
    "jupyter": {
     "outputs_hidden": true
    }
   },
   "outputs": [
    {
     "data": {
      "text/plain": [
       "0.9666666666666667"
      ]
     },
     "execution_count": 24,
     "metadata": {},
     "output_type": "execute_result"
    }
   ],
   "source": [
    "linearSvm = svm.SVC(kernel='linear')\n",
    "# train and test\n",
    "linearSvm.fit(X_train, y_train)\n",
    "linearSvm.score(X_test, y_test)"
   ]
  },
  {
   "cell_type": "markdown",
   "metadata": {},
   "source": [
    "**Question 2: accuracy of linear SVM for different random seed values**\n",
    "\n",
    "seed=0, accuracy = 0.9666666666666667\n",
    "\n",
    "seed=1, accuracy = 0.9833333333333333\n",
    "\n",
    "seed=2, accuracy = 0.9666666666666667"
   ]
  },
  {
   "cell_type": "markdown",
   "metadata": {},
   "source": [
    "## Create a polynomial-kernel SVM\n",
    "Create another SVM, only this time use the argument `kernel='poly'` to make an SVM using a polynomial kernel.  Train and test it with different seed values as before."
   ]
  },
  {
   "cell_type": "code",
   "execution_count": 30,
   "metadata": {
    "jupyter": {
     "outputs_hidden": true
    }
   },
   "outputs": [
    {
     "name": "stderr",
     "output_type": "stream",
     "text": [
      "//anaconda3/lib/python3.7/site-packages/sklearn/svm/base.py:193: FutureWarning: The default value of gamma will change from 'auto' to 'scale' in version 0.22 to account better for unscaled features. Set gamma explicitly to 'auto' or 'scale' to avoid this warning.\n",
      "  \"avoid this warning.\", FutureWarning)\n"
     ]
    },
    {
     "data": {
      "text/plain": [
       "0.95"
      ]
     },
     "execution_count": 30,
     "metadata": {},
     "output_type": "execute_result"
    }
   ],
   "source": [
    "# create, train, and test\n",
    "linearSvmB = svm.SVC(kernel='poly')\n",
    "# train and test\n",
    "linearSvmB.fit(X_train, y_train)\n",
    "linearSvmB.score(X_test, y_test)"
   ]
  },
  {
   "cell_type": "markdown",
   "metadata": {},
   "source": [
    "**Question 3: accuracy of polynomial SVM for different random seed values**\n",
    "\n",
    "seed=0, accuracy = 0.9666666666666667\n",
    "\n",
    "seed=1, accuracy = 0.9833333333333333\n",
    "\n",
    "seed=2, accuracy = 0.95"
   ]
  },
  {
   "cell_type": "markdown",
   "metadata": {},
   "source": [
    "## Create a rbf-kernel SVM\n",
    "\n",
    "Create another svm, this time using `'rbf'` for the kernel type.  Train and test as before."
   ]
  },
  {
   "cell_type": "code",
   "execution_count": 35,
   "metadata": {
    "jupyter": {
     "outputs_hidden": true
    }
   },
   "outputs": [
    {
     "name": "stderr",
     "output_type": "stream",
     "text": [
      "//anaconda3/lib/python3.7/site-packages/sklearn/svm/base.py:193: FutureWarning: The default value of gamma will change from 'auto' to 'scale' in version 0.22 to account better for unscaled features. Set gamma explicitly to 'auto' or 'scale' to avoid this warning.\n",
      "  \"avoid this warning.\", FutureWarning)\n"
     ]
    },
    {
     "data": {
      "text/plain": [
       "0.9833333333333333"
      ]
     },
     "execution_count": 35,
     "metadata": {},
     "output_type": "execute_result"
    }
   ],
   "source": [
    "# create, train, and test\n",
    "linearSvmC = svm.SVC(kernel='rbf')\n",
    "# train and test\n",
    "linearSvmC.fit(X_train, y_train)\n",
    "linearSvmC.score(X_test, y_test)"
   ]
  },
  {
   "cell_type": "markdown",
   "metadata": {},
   "source": [
    "**Question 4: accuracy of rbf SVM for different random seed values**\n",
    "\n",
    "seed=0, accuracy = 0.95\n",
    "\n",
    "seed=1, accuracy = 0.9833333333333333\n",
    "\n",
    "seed=2, accuracy = 0.9666666666666667"
   ]
  },
  {
   "cell_type": "markdown",
   "metadata": {},
   "source": [
    "## Create a Decision Tree\n",
    "\n",
    "Create a decision tree, using `tree.DecisionTreeClassifier()` as your classifier.  Train and test as before."
   ]
  },
  {
   "cell_type": "code",
   "execution_count": 41,
   "metadata": {
    "jupyter": {
     "outputs_hidden": true
    }
   },
   "outputs": [
    {
     "data": {
      "text/plain": [
       "0.9333333333333333"
      ]
     },
     "execution_count": 41,
     "metadata": {},
     "output_type": "execute_result"
    }
   ],
   "source": [
    "# create, train, and test\n",
    "treeClassifier = tree.DecisionTreeClassifier()\n",
    "treeClassifier.fit(X_train, y_train)\n",
    "treeClassifier.score(X_test, y_test)"
   ]
  },
  {
   "cell_type": "markdown",
   "metadata": {},
   "source": [
    "**Question 5: accuracy of decision tree for different random seed values**\n",
    "\n",
    "seed=0, accuracy = 0.95\n",
    "\n",
    "seed=1, accuracy = 0.9666666666666667\n",
    "\n",
    "seed=2, accuracy = 0.9333333333333333"
   ]
  },
  {
   "cell_type": "markdown",
   "metadata": {},
   "source": [
    "## Visualize a Decision Tree as text\n",
    "\n",
    "Use the `tree.export_text()` method, which takes a trained classifier as its first parameter, and a set of feature names as its second parameter (you should use `feature_names=iris['feature_names']` as the second parameter); the result should be a text based visualization of the decision tree.  Note that this method returns a string, so you'll want to `print()` the result to get it to look right."
   ]
  },
  {
   "cell_type": "code",
   "execution_count": 42,
   "metadata": {},
   "outputs": [
    {
     "name": "stdout",
     "output_type": "stream",
     "text": [
      "|--- petal length (cm) <= 2.35\n",
      "|   |--- class: 0\n",
      "|--- petal length (cm) >  2.35\n",
      "|   |--- petal width (cm) <= 1.70\n",
      "|   |   |--- petal length (cm) <= 5.00\n",
      "|   |   |   |--- class: 1\n",
      "|   |   |--- petal length (cm) >  5.00\n",
      "|   |   |   |--- petal width (cm) <= 1.55\n",
      "|   |   |   |   |--- class: 2\n",
      "|   |   |   |--- petal width (cm) >  1.55\n",
      "|   |   |   |   |--- class: 1\n",
      "|   |--- petal width (cm) >  1.70\n",
      "|   |   |--- petal length (cm) <= 4.85\n",
      "|   |   |   |--- sepal length (cm) <= 5.95\n",
      "|   |   |   |   |--- class: 1\n",
      "|   |   |   |--- sepal length (cm) >  5.95\n",
      "|   |   |   |   |--- class: 2\n",
      "|   |   |--- petal length (cm) >  4.85\n",
      "|   |   |   |--- class: 2\n",
      "\n"
     ]
    }
   ],
   "source": [
    "# visualize tree as text\n",
    "result = tree.export_text(treeClassifier, feature_names=iris['feature_names'])\n",
    "print(result)"
   ]
  },
  {
   "cell_type": "markdown",
   "metadata": {},
   "source": [
    "## Visualize a Decision Tree as an image\n",
    "\n",
    "Use the `tree.plot_tree()` method, which takes a trained classifier as its only parameter; the result should be a graphical visualization of the decision tree"
   ]
  },
  {
   "cell_type": "code",
   "execution_count": 44,
   "metadata": {},
   "outputs": [
    {
     "name": "stdout",
     "output_type": "stream",
     "text": [
      "[Text(133.92000000000002, 195.696, 'X[2] <= 2.35\\nentropy = 0.663\\nsamples = 90\\nvalue = [27, 34, 29]'), Text(100.44000000000001, 152.208, 'entropy = 0.0\\nsamples = 27\\nvalue = [27, 0, 0]'), Text(167.40000000000003, 152.208, 'X[3] <= 1.7\\nentropy = 0.497\\nsamples = 63\\nvalue = [0, 34, 29]'), Text(66.96000000000001, 108.72, 'X[2] <= 5.0\\nentropy = 0.057\\nsamples = 34\\nvalue = [0, 33, 1]'), Text(33.480000000000004, 65.232, 'entropy = 0.0\\nsamples = 32\\nvalue = [0, 32, 0]'), Text(100.44000000000001, 65.232, 'X[3] <= 1.55\\nentropy = 0.5\\nsamples = 2\\nvalue = [0, 1, 1]'), Text(66.96000000000001, 21.744, 'entropy = 0.0\\nsamples = 1\\nvalue = [0, 0, 1]'), Text(133.92000000000002, 21.744, 'entropy = 0.0\\nsamples = 1\\nvalue = [0, 1, 0]'), Text(267.84000000000003, 108.72, 'X[2] <= 4.85\\nentropy = 0.067\\nsamples = 29\\nvalue = [0, 1, 28]'), Text(234.36, 65.232, 'X[0] <= 5.95\\nentropy = 0.5\\nsamples = 2\\nvalue = [0, 1, 1]'), Text(200.88000000000002, 21.744, 'entropy = 0.0\\nsamples = 1\\nvalue = [0, 1, 0]'), Text(267.84000000000003, 21.744, 'entropy = 0.0\\nsamples = 1\\nvalue = [0, 0, 1]'), Text(301.32000000000005, 65.232, 'entropy = 0.0\\nsamples = 27\\nvalue = [0, 0, 27]')]\n"
     ]
    },
    {
     "data": {
      "image/png": "[encoded data removed]",
      "text/plain": [
       "<Figure size 432x288 with 1 Axes>"
      ]
     },
     "metadata": {
      "needs_background": "light"
     },
     "output_type": "display_data"
    }
   ],
   "source": [
    "import matplotlib # import plotting library for pretty output\n",
    "# vizualize tree as image\n",
    "result = tree.plot_tree(treeClassifier)\n",
    "print(result)"
   ]
  },
  {
   "cell_type": "code",
   "execution_count": null,
   "metadata": {},
   "outputs": [],
   "source": []
  }
 ],
 "metadata": {
  "kernelspec": {
   "display_name": "Python 3",
   "language": "python",
   "name": "python3"
  },
  "language_info": {
   "codemirror_mode": {
    "name": "ipython",
    "version": 3
   },
   "file_extension": ".py",
   "mimetype": "text/x-python",
   "name": "python",
   "nbconvert_exporter": "python",
   "pygments_lexer": "ipython3",
   "version": "3.7.3"
  }
 },
 "nbformat": 4,
 "nbformat_minor": 4
}
